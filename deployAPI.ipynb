{
 "cells": [
  {
   "cell_type": "code",
   "execution_count": 1,
   "metadata": {},
   "outputs": [],
   "source": [
    "from pydantic import BaseModel\n",
    "from fastapi import FastAPI\n",
    "import pandas as pd\n",
    "import pickle\n",
    "# Load the saved model using pickle\n",
    "with open('KNN_model.pkl', 'rb') as f:\n",
    "    knn_model = pickle.load(f)\n",
    "with open('Random_Forest_model.pkl', 'rb') as f:\n",
    "    rf_model = pickle.load(f)\n",
    "with open('SVM_model.pkl', 'rb') as f:\n",
    "    svm_model = pickle.load(f)\n",
    "with open('LR_model.pkl', 'rb') as f:\n",
    "    lr_model = pickle.load(f)\n",
    "\n",
    "class Item(BaseModel):\n",
    "    sepal_length: float\n",
    "    sepal_width: float\n",
    "    petal_length: float\n",
    "    petal_width: float\n",
    "\n",
    "app = FastAPI()\n",
    "\n"
   ]
  },
  {
   "cell_type": "code",
   "execution_count": 2,
   "metadata": {},
   "outputs": [],
   "source": [
    "def make_prediction(model, item):\n",
    "    input_data = pd.DataFrame([[\n",
    "        item.sepal_length,\n",
    "        item.sepal_width,\n",
    "        item.petal_length,\n",
    "        item.petal_width\n",
    "    ]], columns=['sepal length (cm)', 'sepal width (cm)', 'petal length (cm)', 'petal width (cm)'])\n",
    "    prediction = model.predict(input_data)\n",
    "    print(item)\n",
    "    print('Predicted Value:', prediction.tolist()[0])\n",
    "    return prediction.tolist()[0]\n"
   ]
  },
  {
   "cell_type": "code",
   "execution_count": 3,
   "metadata": {},
   "outputs": [],
   "source": [
    "@app.post(\"/predict_knn\")\n",
    "async def predict_knn(item: Item):\n",
    "    print('KNN')\n",
    "    return {\"prediction\": make_prediction(knn_model, item)}\n",
    "\n"
   ]
  },
  {
   "cell_type": "code",
   "execution_count": 4,
   "metadata": {},
   "outputs": [],
   "source": [
    "@app.post(\"/predict_rf\")\n",
    "async def predict_rf(item: Item):\n",
    "    print('RF')\n",
    "    return {\"prediction\": make_prediction(rf_model, item)}"
   ]
  },
  {
   "cell_type": "code",
   "execution_count": 5,
   "metadata": {},
   "outputs": [],
   "source": [
    "@app.post(\"/predict_svm\")\n",
    "async def predict_svm(item: Item):\n",
    "    print('SVM')\n",
    "    return {\"prediction\": make_prediction(svm_model, item)}"
   ]
  },
  {
   "cell_type": "code",
   "execution_count": 6,
   "metadata": {},
   "outputs": [],
   "source": [
    "@app.post(\"/predict_lr\")\n",
    "async def predict_lr(item: Item):\n",
    "    print('LR')\n",
    "    return {\"prediction\": make_prediction(lr_model, item)}"
   ]
  }
 ],
 "metadata": {
  "kernelspec": {
   "display_name": "Python 3 (ipykernel)",
   "language": "python",
   "name": "python3"
  },
  "language_info": {
   "codemirror_mode": {
    "name": "ipython",
    "version": 3
   },
   "file_extension": ".py",
   "mimetype": "text/x-python",
   "name": "python",
   "nbconvert_exporter": "python",
   "pygments_lexer": "ipython3",
   "version": "3.9.17"
  }
 },
 "nbformat": 4,
 "nbformat_minor": 4
}
